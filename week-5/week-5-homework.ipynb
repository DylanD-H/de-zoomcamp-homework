{
 "cells": [
  {
   "cell_type": "code",
   "execution_count": 115,
   "id": "06515039-1078-41b7-8699-b96358572ff5",
   "metadata": {},
   "outputs": [],
   "source": [
    "import pandas as pd\n",
    "import pyspark\n",
    "from pyspark.sql import SparkSession\n",
    "from pyspark.sql.functions import col,to_timestamp"
   ]
  },
  {
   "cell_type": "code",
   "execution_count": 117,
   "id": "f0a278b0-c1ff-4122-bee4-eb8fc3592c2f",
   "metadata": {},
   "outputs": [],
   "source": [
    "spark = SparkSession.builder \\\n",
    "    .master(\"local[*]\") \\\n",
    "    .appName('test') \\\n",
    "    .getOrCreate()"
   ]
  },
  {
   "cell_type": "code",
   "execution_count": 118,
   "id": "cf3b8931-0521-467d-b34e-4fe23bb9906c",
   "metadata": {},
   "outputs": [
    {
     "data": {
      "text/plain": [
       "'3.5.5'"
      ]
     },
     "execution_count": 118,
     "metadata": {},
     "output_type": "execute_result"
    }
   ],
   "source": [
    "spark.version"
   ]
  },
  {
   "cell_type": "code",
   "execution_count": 119,
   "id": "9c059282-2022-43e4-a5d8-2e0d55a66b9b",
   "metadata": {},
   "outputs": [],
   "source": [
    "df = spark.read \\\n",
    "    .option(\"header\", \"true\") \\\n",
    "    .parquet('yellow_tripdata_2024-10.parquet')"
   ]
  },
  {
   "cell_type": "code",
   "execution_count": 120,
   "id": "4d759a6e-474d-4ffe-a275-a90103d839c2",
   "metadata": {},
   "outputs": [],
   "source": [
    "df = df.repartition(4)"
   ]
  },
  {
   "cell_type": "code",
   "execution_count": 123,
   "id": "c12fe5b4-faa1-4299-aea2-590efae38904",
   "metadata": {},
   "outputs": [
    {
     "name": "stderr",
     "output_type": "stream",
     "text": [
      "                                                                                \r"
     ]
    }
   ],
   "source": [
    "df.write.parquet('yellow/2024/10', mode='overwrite')"
   ]
  },
  {
   "cell_type": "code",
   "execution_count": 124,
   "id": "b75101c1-eda0-4200-b1b5-d35baed80da1",
   "metadata": {},
   "outputs": [],
   "source": [
    "df = spark.read.parquet('yellow/2024/10')"
   ]
  },
  {
   "cell_type": "code",
   "execution_count": 125,
   "id": "c864a3c2-8ec8-4eda-8488-9e00ded61406",
   "metadata": {},
   "outputs": [],
   "source": [
    "df = df.withColumn('pickup_time',to_timestamp(col('tpep_pickup_datetime'))) \\\n",
    "    .withColumn('dropoff_time',to_timestamp(col('tpep_dropoff_datetime'))) \\\n",
    "    .withColumn('timeDiff',col('dropoff_time').cast('long') - col('pickup_time').cast('long')) \\\n",
    "    .withColumn('trip_length_hours',(col('timeDiff')/3600).cast('integer'))"
   ]
  },
  {
   "cell_type": "code",
   "execution_count": 126,
   "id": "7afe4474-82cb-4fa8-bf4f-aebb929c70bb",
   "metadata": {},
   "outputs": [],
   "source": [
    "df.registerTempTable('tripdata')"
   ]
  },
  {
   "cell_type": "code",
   "execution_count": 127,
   "id": "d8160599-4b1b-496c-8867-ddd886e766cb",
   "metadata": {},
   "outputs": [],
   "source": [
    "df_count = spark.sql(\"\"\"\n",
    "SELECT \n",
    "    COUNT(1) AS trip_count\n",
    "FROM \n",
    "    tripdata\n",
    "WHERE \n",
    "    date_trunc('day',tpep_pickup_datetime) = '2024-10-15 00:00:00'\n",
    "\"\"\")"
   ]
  },
  {
   "cell_type": "code",
   "execution_count": 128,
   "id": "50c71a69-40d5-498d-a0d6-3d92a32157d8",
   "metadata": {},
   "outputs": [
    {
     "name": "stdout",
     "output_type": "stream",
     "text": [
      "+----------+\n",
      "|trip_count|\n",
      "+----------+\n",
      "|    128893|\n",
      "+----------+\n",
      "\n"
     ]
    }
   ],
   "source": [
    "df_count.show()"
   ]
  },
  {
   "cell_type": "code",
   "execution_count": 129,
   "id": "00463cd0-ff88-4572-877b-33f804b52dcc",
   "metadata": {},
   "outputs": [],
   "source": [
    "df_length = spark.sql(\"\"\"\n",
    "SELECT \n",
    "    trip_length_hours\n",
    "FROM \n",
    "    tripdata\n",
    "ORDER BY trip_length_hours DESC\n",
    "\"\"\")"
   ]
  },
  {
   "cell_type": "code",
   "execution_count": 132,
   "id": "1e335c04-4898-4669-8aa9-c8210879d2a8",
   "metadata": {},
   "outputs": [
    {
     "name": "stdout",
     "output_type": "stream",
     "text": [
      "+-----------------+\n",
      "|trip_length_hours|\n",
      "+-----------------+\n",
      "|              162|\n",
      "+-----------------+\n",
      "only showing top 1 row\n",
      "\n"
     ]
    }
   ],
   "source": [
    "df_length.show(1)"
   ]
  },
  {
   "cell_type": "code",
   "execution_count": 133,
   "id": "6a722c4b-e0f1-4415-8582-4a554d365ea0",
   "metadata": {},
   "outputs": [],
   "source": [
    "df_zones = spark.read \\\n",
    "    .option(\"header\", \"true\") \\\n",
    "    .csv('taxi_zone_lookup.csv')"
   ]
  },
  {
   "cell_type": "code",
   "execution_count": 136,
   "id": "b291296a-ada9-489a-8113-95d6ce6c3e8b",
   "metadata": {},
   "outputs": [],
   "source": [
    "df_join = df.join(df_zones, df.PULocationID == df_zones.LocationID)"
   ]
  },
  {
   "cell_type": "code",
   "execution_count": 139,
   "id": "8b777311-01dc-4ac2-8769-6a9607845fdf",
   "metadata": {},
   "outputs": [],
   "source": [
    "df_join.registerTempTable('zonedata')"
   ]
  },
  {
   "cell_type": "code",
   "execution_count": 141,
   "id": "673b0a66-e668-4e09-b162-9fcc97b206f1",
   "metadata": {},
   "outputs": [],
   "source": [
    "df_zone_data = spark.sql(\"\"\"\n",
    "SELECT \n",
    "    zone,\n",
    "    count(1) AS trip_count\n",
    "FROM \n",
    "    zonedata\n",
    "GROUP BY zone\n",
    "ORDER BY trip_count ASC\n",
    "\"\"\")"
   ]
  },
  {
   "cell_type": "code",
   "execution_count": 144,
   "id": "d3e96c69-b9d5-4e56-949b-9616305d1daf",
   "metadata": {},
   "outputs": [
    {
     "name": "stdout",
     "output_type": "stream",
     "text": [
      "+--------------------+----------+\n",
      "|                zone|trip_count|\n",
      "+--------------------+----------+\n",
      "|Governor's Island...|         1|\n",
      "+--------------------+----------+\n",
      "only showing top 1 row\n",
      "\n"
     ]
    }
   ],
   "source": [
    "df_zone_data.show(1)"
   ]
  },
  {
   "cell_type": "code",
   "execution_count": null,
   "id": "35fcee8d-269d-462c-8c72-adf93a3d5152",
   "metadata": {},
   "outputs": [],
   "source": []
  }
 ],
 "metadata": {
  "kernelspec": {
   "display_name": "Python 3 (ipykernel)",
   "language": "python",
   "name": "python3"
  },
  "language_info": {
   "codemirror_mode": {
    "name": "ipython",
    "version": 3
   },
   "file_extension": ".py",
   "mimetype": "text/x-python",
   "name": "python",
   "nbconvert_exporter": "python",
   "pygments_lexer": "ipython3",
   "version": "3.12.7"
  }
 },
 "nbformat": 4,
 "nbformat_minor": 5
}
